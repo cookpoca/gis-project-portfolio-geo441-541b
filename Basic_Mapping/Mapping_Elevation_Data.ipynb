{
  "nbformat": 4,
  "nbformat_minor": 0,
  "metadata": {
    "colab": {
      "provenance": [],
      "include_colab_link": true
    },
    "kernelspec": {
      "name": "python3",
      "display_name": "Python 3"
    },
    "language_info": {
      "name": "python"
    }
  },
  "cells": [
    {
      "cell_type": "markdown",
      "metadata": {
        "id": "view-in-github",
        "colab_type": "text"
      },
      "source": [
        "<a href=\"https://colab.research.google.com/github/cookpoca/gis-project-portfolio-geo441-541b/blob/main/Basic_Mapping/Mapping_Elevation_Data.ipynb\" target=\"_parent\"><img src=\"https://colab.research.google.com/assets/colab-badge.svg\" alt=\"Open In Colab\"/></a>"
      ]
    },
    {
      "cell_type": "markdown",
      "source": [
        "# **Mapping digital elevation and hydrology data**"
      ],
      "metadata": {
        "id": "C0ymCPR5aSHN"
      }
    },
    {
      "cell_type": "markdown",
      "source": [
        "[link text](https://)🚀 Created by Cailin Cook-Porter\n",
        "\n",
        "10/20/2024"
      ],
      "metadata": {
        "id": "Pt_OREXFPvkr"
      }
    },
    {
      "cell_type": "markdown",
      "source": [
        "## **Get ready to start**\n",
        "\n",
        "- Click **`File/Save a copy in Drive`** to save a copy of this notebook to my own Google Drive"
      ],
      "metadata": {
        "id": "CMQN_pgaHVLO"
      }
    },
    {
      "cell_type": "markdown",
      "source": [
        "## **Overview**\n",
        "\n",
        "This notebook contains the following two parts:\n",
        "\n",
        "- Create a map following the [assignment guide](https://miamioh.instructure.com/files/33254544/download?download_frd=1) for a digital elevation model of [Lower St. Croix watershed in Minnesoda](https://www.pca.state.mn.us/watershed-information/lower-st-croix-river) and hydrological data from National Hydrological Data (NHD)\n",
        "- Identify at least one raster dataset that can be used in your group project\n",
        "  - Revisit our [project topic pool](https://colab.research.google.com/drive/1aLwfdEKYufJ5s0H8CxbtKfEopYriQGIi?usp=drive_link) if necessary"
      ],
      "metadata": {
        "id": "6tKmlbnzny_I"
      }
    },
    {
      "cell_type": "markdown",
      "source": [
        "## **Map of elevation and hydrological information of the Lower St. Croix River Watershed, MN**\n"
      ],
      "metadata": {
        "id": "WVs4J1jQbESU"
      }
    },
    {
      "cell_type": "markdown",
      "source": [
        "- Use the checklist below to make sure our map contains all necessary map content and is formatted correctly\n",
        "\n",
        "  - [x] Contains a title with byline (i.e., by [your name])\n",
        "  - [x] Use a larger and bold font type for the title\n",
        "  - [x] Contains one layer of **NHD Flowline** with three types of flows\n",
        "    - [x] Artificial Path\n",
        "    - [x] Canal Ditch\n",
        "    - [x] Stream River\n",
        "  - [x] Contains a layer of **NHD Water Body** with two types\n",
        "    - [x] Lake Pond\n",
        "    - [x] Reservoir\n",
        "  - [x] Contains a of **Elevation**\n",
        "  - [x] A **hillshade** layer is added to the map to enhance the visualization of elevation, but **not included** in the legend\n",
        "  - [x] Uses the elevation color ramp to visualize the **Elevation** layer by elevation\n",
        "  - [x] Contains a map scale\n",
        "  - [x] Contains a legend\n",
        "  - [x] Contains a north arrow\n",
        "  - [x] Uses a balanced layout for all map elements\n",
        "    - [x] Map stays in the center of layout\n",
        "    - [x] Font size of title is appropriate (not too big or too small)\n",
        "    - [x] Legend, map scale bar, and north arrow are placed appropriately to avoid an overlap with the map layers\n",
        "    - [x] Legend, map scale bar, and north arrow has an appropriate size (big enough to read information, small enough to reserve most of space for map layers"
      ],
      "metadata": {
        "id": "bXB_pi-aPTOT"
      }
    },
    {
      "cell_type": "markdown",
      "source": [
        "```markdown\n",
        "https://drive.google.com/file/d/1x5noemqpK62fcRzKxcHBWfBZBjkcOGV0/view?usp=sharing\n",
        "```\n",
        "\n",
        "- After finishing the two steps below, a link can be created to correctly rendered in Google Colab\n",
        "  - Deleted **`/view?usp=sharing`** at the end of the link\n",
        "  - Replaced **`/file/d/`** with **`/uc?export=view&id=`**\n",
        "\n",
        "```markdown\n",
        "https://drive.google.com/uc?export=view&id=1x5noemqpK62fcRzKxcHBWfBZBjkcOGV0\n",
        "```\n",
        "\n",
        "- The map can be inserted in Google Colab following the syntax [from here](https://www.markdownguide.org/cheat-sheet/)\n",
        "\n",
        "```markdown\n",
        "Insert the map here using syntax:\n",
        "![lower st croix watershed](revised link)\n",
        "```\n",
        "\n",
        "![lower st croix watershed](https://drive.google.com/uc?export=view&id=1x5noemqpK62fcRzKxcHBWfBZBjkcOGV0\n",
        ")"
      ],
      "metadata": {
        "id": "wkJqun7umRRk"
      }
    },
    {
      "cell_type": "markdown",
      "source": [
        "## **Raster data for group project**\n",
        "\n",
        "- **Provide the name and the link to the raster dataset you identified for your group project**\n",
        "  - You can begin with the following portals\n",
        "    - [ArcGIS Living Atlas of the World](https://livingatlas.arcgis.com/en/home/)\n",
        "    - [NASAS WorldView](https://worldview.earthdata.nasa.gov/)\n",
        "      - Click **Add Layers** to identify datasets for different subjects (including **human dimensions**)\n",
        "    - [NASA Socioeconomic Data and Applications Center (SEDAC)](https://sedac.ciesin.columbia.edu/)\n",
        "\n",
        "| Name of Dataset | Dataset Producer | Link to Dataset |\n",
        "| ---------------- | ---------------- | ---------------- |\n",
        "| US Level IV Ecoregions | EPA | https://www.epa.gov/eco-research/level-iii-and-iv-ecoregions-continental-united-states |"
      ],
      "metadata": {
        "id": "d8B4v6BIJYRw"
      }
    },
    {
      "cell_type": "markdown",
      "source": [
        "- **Provide the specifics of the raster dataset you identified**\n",
        "\n",
        "| Spatial Resolution | Temporal Resolution* | Spatial Extent |\n",
        "| ---------------- | ---------------- | ---------------- |\n",
        "| 0.00000000375279807229845 Meters | Multi-year | United States |\n",
        "\n",
        "*Temporal resolution of data: Wheather the data is acquired on a daily, monthly, yearly, or multi-year basis*"
      ],
      "metadata": {
        "id": "xuG1CFbBlawa"
      }
    },
    {
      "cell_type": "markdown",
      "source": [
        "- **Why is the dataset you selected an appropriate choice for your current project?** Explain from the perspectives of the content of the data, spatial resolution, temporal resolution (daily, monthly, yearly acquisition), and/or spatial extent covered.\n",
        "\n",
        "\n",
        "I chose dataset that includes the boundaries of level 4 ecoregions, which will be helpful in determining what areas of all ecoregions have high levels of biodiversity. Once overlapped with a map containing some kind of biodiversity index, we can determine which ecoregions need to be focused on for conservation management. Also, the spatial extent of the map covers the United States which is the area we are studying, and the temporal resolution is multi-year and has recently been updated."
      ],
      "metadata": {
        "id": "SKZskx02mMvl"
      }
    },
    {
      "cell_type": "markdown",
      "source": [
        "## **Save and share this notebook**\n",
        "\n",
        "- Make this notebook viewable by anyone with the link and submit the link to Canvas as Week 8 assignment"
      ],
      "metadata": {
        "id": "kkgukjDcXsqC"
      }
    },
    {
      "cell_type": "markdown",
      "source": [
        "## **Reference**\n",
        "\n",
        "- [Markdown cheat sheet](https://www.markdownguide.org/cheat-sheet/)"
      ],
      "metadata": {
        "id": "fvMbEX89YLeY"
      }
    }
  ]
}